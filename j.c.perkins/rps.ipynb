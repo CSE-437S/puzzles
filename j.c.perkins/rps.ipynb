{
 "cells": [
  {
   "cell_type": "code",
   "execution_count": 32,
   "metadata": {},
   "outputs": [],
   "source": [
    "def rpsGuideCalc(guide):\n",
    "    enemy = []\n",
    "    player = []\n",
    "    for i, p in enumerate(guide.split()):\n",
    "        if i%2 == 0:\n",
    "            enemy.append(p)\n",
    "        else:\n",
    "            player.append(p)\n",
    "\n",
    "\n",
    "    if len(enemy) != len(player):\n",
    "        return 0\n",
    "    score = 0\n",
    "    for i, e in enumerate(enemy):\n",
    "        p = player[i]\n",
    "        match e:\n",
    "            case 'A': \n",
    "                match p:\n",
    "                    case 'X':\n",
    "                        score += (1+3)\n",
    "                    case 'Y': \n",
    "                        score += (2+6)\n",
    "                    case 'Z':\n",
    "                        score += (3+0)\n",
    "            case 'B':\n",
    "                match p:\n",
    "                    case 'X':\n",
    "                        score += (1+0)\n",
    "                    case 'Y': \n",
    "                        score += (2+3)\n",
    "                    case 'Z':\n",
    "                        score += (3+6)\n",
    "            case 'C':\n",
    "                match p:\n",
    "                    case 'X':\n",
    "                        score += (1+6)\n",
    "                    case 'Y': \n",
    "                        score += (2+0)\n",
    "                    case 'Z':\n",
    "                        score += (3+3)\n",
    "    return score\n"
   ]
  }
 ],
 "metadata": {
  "kernelspec": {
   "display_name": "base",
   "language": "python",
   "name": "python3"
  },
  "language_info": {
   "codemirror_mode": {
    "name": "ipython",
    "version": 3
   },
   "file_extension": ".py",
   "mimetype": "text/x-python",
   "name": "python",
   "nbconvert_exporter": "python",
   "pygments_lexer": "ipython3",
   "version": "3.11.4"
  }
 },
 "nbformat": 4,
 "nbformat_minor": 2
}
