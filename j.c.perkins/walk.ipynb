{
 "cells": [
  {
   "cell_type": "code",
   "execution_count": 29,
   "metadata": {},
   "outputs": [],
   "source": [
    "def mapShifter(map):\n",
    "    betterMap = [list(x) for x in map.splitlines()]\n",
    "    return betterMap\n",
    "\n",
    "def maxWalk(map, x, y):\n",
    "    if x < 0 or y < 0 or x >= len(map) or y >= len(map[0]) or map[x][y] == '#':\n",
    "        return 0\n",
    "    \n",
    "    if x == len(map)-1 and map[x][y] == '.':\n",
    "        return -1\n",
    "    \n",
    "    if map[x][y] != '.':\n",
    "        match map[x][y]:\n",
    "            case '>':\n",
    "                return 1 + maxWalk(map, x, y+1)\n",
    "            case '<':\n",
    "                return 1 + maxWalk(map, x, y-1)\n",
    "            case '^':\n",
    "                return 1 + maxWalk(map, x-1, y)\n",
    "            case 'v':\n",
    "                return 1 + maxWalk(map, x+1, y)\n",
    "    else:\n",
    "        map[x][y] =\"#\"\n",
    "        north = 1 + maxWalk(map, x-1, y)\n",
    "        south = 1 + maxWalk(map, x+1, y)\n",
    "        east = 1 + maxWalk(map, x, y-1)\n",
    "        west = 1 + maxWalk(map, x, y+1)\n",
    "        map[x][y] =\".\"\n",
    "\n",
    "\n",
    "        return max(north, south, east, west)\n",
    "\n",
    "    \n",
    "    \n",
    "    \n"
   ]
  }
 ],
 "metadata": {
  "kernelspec": {
   "display_name": "base",
   "language": "python",
   "name": "python3"
  },
  "language_info": {
   "codemirror_mode": {
    "name": "ipython",
    "version": 3
   },
   "file_extension": ".py",
   "mimetype": "text/x-python",
   "name": "python",
   "nbconvert_exporter": "python",
   "pygments_lexer": "ipython3",
   "version": "3.11.4"
  }
 },
 "nbformat": 4,
 "nbformat_minor": 2
}
