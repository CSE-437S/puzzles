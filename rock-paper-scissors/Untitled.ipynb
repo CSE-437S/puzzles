{
 "cells": [
  {
   "cell_type": "code",
   "execution_count": 34,
   "metadata": {},
   "outputs": [
    {
     "data": {
      "text/plain": [
       "array([['C', 'C'],\n",
       "       ['C', 'C'],\n",
       "       ['A', 'A'],\n",
       "       ...,\n",
       "       ['C', 'B'],\n",
       "       ['C', 'C'],\n",
       "       ['C', 'B']], dtype='<U1')"
      ]
     },
     "execution_count": 34,
     "metadata": {},
     "output_type": "execute_result"
    }
   ],
   "source": [
    "import numpy as np\n",
    "results = np.genfromtxt('results.csv', delimiter=' ', dtype='str')\n",
    "\n",
    "value_mapping = {'Z': 'C', 'Y': 'B', 'X': 'A'}\n",
    "mapping=np.vectorize(lambda x: value_mapping.get(x, x))\n",
    "\n",
    "results[:,1]=mapping(results[:,1])\n",
    "\n",
    "results"
   ]
  },
  {
   "cell_type": "code",
   "execution_count": 32,
   "metadata": {},
   "outputs": [],
   "source": [
    "total_score=0\n",
    "for result in results:\n",
    "    game_score=0\n",
    "    if result[0]==result[1]:\n",
    "        game_score+=3\n",
    "    if result[1]=='A':\n",
    "        game_score+=1\n",
    "        if result[0]=='C':\n",
    "            game_score+=6\n",
    "    if result[1]=='B':\n",
    "        game_score+=2\n",
    "        if result[0]=='A':\n",
    "            game_score+=6\n",
    "    if result[1]=='C':\n",
    "        game_score+=3\n",
    "        if result[0]=='B':\n",
    "            game_score+=6\n",
    "    total_score+=game_score"
   ]
  },
  {
   "cell_type": "code",
   "execution_count": 35,
   "metadata": {},
   "outputs": [
    {
     "data": {
      "text/plain": [
       "array([['C', 'Z'],\n",
       "       ['C', 'Z'],\n",
       "       ['A', 'X'],\n",
       "       ...,\n",
       "       ['C', 'Y'],\n",
       "       ['C', 'Z'],\n",
       "       ['C', 'Y']], dtype='<U1')"
      ]
     },
     "execution_count": 35,
     "metadata": {},
     "output_type": "execute_result"
    }
   ],
   "source": [
    "import numpy as np\n",
    "results = np.genfromtxt('results.csv', delimiter=' ', dtype='str')\n",
    "\n",
    "results"
   ]
  },
  {
   "cell_type": "code",
   "execution_count": 42,
   "metadata": {},
   "outputs": [
    {
     "data": {
      "text/plain": [
       "12382"
      ]
     },
     "execution_count": 42,
     "metadata": {},
     "output_type": "execute_result"
    }
   ],
   "source": [
    "def play(opp_play,result):\n",
    "    your_play=''\n",
    "    win_dict={'C': 'A', 'B': 'C', 'A': 'B'}\n",
    "    lose_dict={'A': 'C', 'B': 'A', 'C': 'B'}\n",
    "    if result=='Y':\n",
    "        your_play=opp_play\n",
    "    if result=='Z':\n",
    "        your_play=win_dict[opp_play]\n",
    "    if result=='X':\n",
    "        your_play=lose_dict[opp_play]\n",
    "    return your_play\n",
    "\n",
    "total_score=0\n",
    "for result in results:\n",
    "    your_play=play(result[0],result[1])\n",
    "    game_score=0\n",
    "    if result[0]==your_play:\n",
    "        game_score+=3\n",
    "    if your_play=='A':\n",
    "        game_score+=1\n",
    "        if result[0]=='C':\n",
    "            game_score+=6\n",
    "    if your_play=='B':\n",
    "        game_score+=2\n",
    "        if result[0]=='A':\n",
    "            game_score+=6\n",
    "    if your_play=='C':\n",
    "        game_score+=3\n",
    "        if result[0]=='B':\n",
    "            game_score+=6\n",
    "    total_score+=game_score\n",
    "\n",
    "total_score"
   ]
  }
 ],
 "metadata": {
  "kernelspec": {
   "display_name": "Python 3",
   "language": "python",
   "name": "python3"
  },
  "language_info": {
   "codemirror_mode": {
    "name": "ipython",
    "version": 3
   },
   "file_extension": ".py",
   "mimetype": "text/x-python",
   "name": "python",
   "nbconvert_exporter": "python",
   "pygments_lexer": "ipython3",
   "version": "3.8.5"
  }
 },
 "nbformat": 4,
 "nbformat_minor": 4
}
